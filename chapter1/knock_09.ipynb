{
 "cells": [
  {
   "cell_type": "code",
   "execution_count": 98,
   "metadata": {},
   "outputs": [
    {
     "name": "stdout",
     "output_type": "stream",
     "text": [
      "I clnudo't beveile that I colud alauclty uetrndansd what I was rdenaig : the pnmaoheenl pweor of the hmuan mind .\n"
     ]
    }
   ],
   "source": [
    "import random\n",
    "\n",
    "my_text = \"I couldn't believe that I could actually understand what I was reading : the phenomenal power of the human mind .\"\n",
    "words = list(my_text.split())\n",
    "\n",
    "random_text = []\n",
    "for word in words:\n",
    "    if len(word) <= 4:\n",
    "        pass\n",
    "    else:\n",
    "        body = word[1:-1]\n",
    "        body_list = list(body)\n",
    "        random.shuffle(body_list)\n",
    "        new_body = ''.join(body_list)\n",
    "        word = '{}{}{}'.format(word[0],new_body,word[-1])\n",
    "    random_text.append(word)\n",
    "\n",
    "print (' '.join(random_text))"
   ]
  }
 ],
 "metadata": {
  "kernelspec": {
   "display_name": "Python 3",
   "language": "python",
   "name": "python3"
  },
  "language_info": {
   "codemirror_mode": {
    "name": "ipython",
    "version": 3
   },
   "file_extension": ".py",
   "mimetype": "text/x-python",
   "name": "python",
   "nbconvert_exporter": "python",
   "pygments_lexer": "ipython3",
   "version": "3.6.0"
  }
 },
 "nbformat": 4,
 "nbformat_minor": 2
}
