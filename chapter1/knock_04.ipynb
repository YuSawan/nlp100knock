{
 "cells": [
  {
   "cell_type": "code",
   "execution_count": 11,
   "metadata": {},
   "outputs": [
    {
     "name": "stdout",
     "output_type": "stream",
     "text": [
      "{'H': 1, 'He': 2, 'Li': 3, 'Be': 4, 'B': 5, 'C': 6, 'N': 7, 'O': 8, 'F': 9, 'Ne': 10, 'Na': 11, 'Mi': 12, 'Al': 13, 'Si': 14, 'P': 15, 'S': 16, 'Cl': 17, 'Ar': 18, 'K': 19, 'Ca': 20}\n",
      "H 1\n",
      "He 2\n",
      "Li 3\n",
      "Be 4\n",
      "B 5\n",
      "C 6\n",
      "N 7\n",
      "O 8\n",
      "F 9\n",
      "Ne 10\n",
      "Na 11\n",
      "Mi 12\n",
      "Al 13\n",
      "Si 14\n",
      "P 15\n",
      "S 16\n",
      "Cl 17\n",
      "Ar 18\n",
      "K 19\n",
      "Ca 20\n"
     ]
    }
   ],
   "source": [
    "t = \"Hi He Lied Because Boron Could Not Oxidize Fluorine. New Nations Might Also Sign Peace Security Clause. Arthur King Can.\"\n",
    "\n",
    "words = list(i for i in t.split())\n",
    "my_dict = {}\n",
    "head = [ 1, 5, 6, 7, 8, 9, 15, 16, 19]\n",
    "\n",
    "for i in range(len(words)):\n",
    "    if i+1 in head:\n",
    "        my_dict[words[i][:1]] = i+1\n",
    "    else:\n",
    "        my_dict[words[i][:2]] = i+1\n",
    "\n",
    "for k,v in my_dict.items():\n",
    "    print (k,v)"
   ]
  },
  {
   "cell_type": "code",
   "execution_count": 2,
   "metadata": {},
   "outputs": [
    {
     "name": "stdout",
     "output_type": "stream",
     "text": [
      "H 1\n",
      "He 2\n",
      "Li 3\n",
      "Be 4\n",
      "B 5\n",
      "C 6\n",
      "N 7\n",
      "O 8\n",
      "F 9\n",
      "Ne 10\n",
      "Na 11\n",
      "Mi 12\n",
      "Al 13\n",
      "Si 14\n",
      "P 15\n",
      "S 16\n",
      "Cl 17\n",
      "Ar 18\n",
      "K 19\n",
      "Ca 20\n"
     ]
    }
   ],
   "source": [
    "#!/usr/bin/python\n",
    "#-*-coding:utf-8-*-\n",
    "#2015/04/13 20:02:22 Shin Kanouchi\n",
    "\n",
    "my_sent = \"Hi He Lied Because Boron Could Not Oxidize Fluorine. New Nations Might Also Sign Peace Security Clause. Arthur King Can.\"\n",
    "my_dict = {}\n",
    "head = [1, 5, 6, 7, 8, 9, 15, 16, 19]\n",
    "words = my_sent.split()\n",
    "for i in range(len(words)):\n",
    "    if i+1 in head:\n",
    "        j=1\n",
    "    else:\n",
    "        j=2\n",
    "    my_dict[words[i][:j]] = i+1\n",
    "\n",
    "for k, v in sorted(my_dict.items(), key=lambda x:x[1]):\n",
    "        print (k, v)\n"
   ]
  },
  {
   "cell_type": "code",
   "execution_count": null,
   "metadata": {},
   "outputs": [],
   "source": []
  }
 ],
 "metadata": {
  "kernelspec": {
   "display_name": "Python 3",
   "language": "python",
   "name": "python3"
  },
  "language_info": {
   "codemirror_mode": {
    "name": "ipython",
    "version": 3
   },
   "file_extension": ".py",
   "mimetype": "text/x-python",
   "name": "python",
   "nbconvert_exporter": "python",
   "pygments_lexer": "ipython3",
   "version": "3.6.0"
  }
 },
 "nbformat": 4,
 "nbformat_minor": 2
}
