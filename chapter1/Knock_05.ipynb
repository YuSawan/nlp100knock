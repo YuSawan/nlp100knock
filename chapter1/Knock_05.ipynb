{
 "cells": [
  {
   "cell_type": "code",
   "execution_count": 3,
   "metadata": {},
   "outputs": [
    {
     "name": "stdin",
     "output_type": "stream",
     "text": [
      " I am an NLPer\n"
     ]
    },
    {
     "name": "stdout",
     "output_type": "stream",
     "text": [
      "[['I', 'am'], ['am', 'an'], ['an', 'NLPer']]\n",
      "['I ', 'am', 'm ', 'an', 'n ', 'NL', 'LP', 'Pe', 'er']\n"
     ]
    }
   ],
   "source": [
    "def word_ngram(t,n):\n",
    "    words = t.split()\n",
    "    bi_list = []\n",
    "    for i in range(len(words)-n+1):\n",
    "        bi_list.append(words[i:i+n])\n",
    "    return bi_list\n",
    "    \n",
    "def char_ngram(t,n):\n",
    "    bi_list = []\n",
    "    for i in range(len(t)-n+1):\n",
    "        if t[i] == ' ' or t[i] == '.':\n",
    "            continue\n",
    "        bi_list.append(t[i:i+n])\n",
    "    return bi_list\n",
    "    \n",
    "if __name__ in '__main__':\n",
    "    t = input()\n",
    "    print (word_ngram(t,2))\n",
    "    print (char_ngram(t,2))"
   ]
  },
  {
   "cell_type": "markdown",
   "metadata": {},
   "source": []
  },
  {
   "cell_type": "code",
   "execution_count": null,
   "metadata": {},
   "outputs": [],
   "source": []
  }
 ],
 "metadata": {
  "kernelspec": {
   "display_name": "Python 3",
   "language": "python",
   "name": "python3"
  },
  "language_info": {
   "codemirror_mode": {
    "name": "ipython",
    "version": 3
   },
   "file_extension": ".py",
   "mimetype": "text/x-python",
   "name": "python",
   "nbconvert_exporter": "python",
   "pygments_lexer": "ipython3",
   "version": "3.6.0"
  }
 },
 "nbformat": 4,
 "nbformat_minor": 2
}
