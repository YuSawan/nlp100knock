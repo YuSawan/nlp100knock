{
 "cells": [
  {
   "cell_type": "code",
   "execution_count": 1,
   "metadata": {},
   "outputs": [
    {
     "name": "stdin",
     "output_type": "stream",
     "text": [
      " This is a pen.\n"
     ]
    },
    {
     "name": "stdout",
     "output_type": "stream",
     "text": [
      "Tsrh rh z kvm.\n"
     ]
    }
   ],
   "source": [
    "import sys\n",
    "\n",
    "def cipher(t):\n",
    "    new_text = ''\n",
    "    for char in t:\n",
    "        if char.islower():\n",
    "            char = chr(219-ord(char))\n",
    "        new_text += char\n",
    "    return new_text\n",
    "    \n",
    "if __name__ in '__main__':\n",
    "    my_text = input()\n",
    "    print (cipher(my_text))\n",
    "    "
   ]
  }
 ],
 "metadata": {
  "kernelspec": {
   "display_name": "Python 3",
   "language": "python",
   "name": "python3"
  },
  "language_info": {
   "codemirror_mode": {
    "name": "ipython",
    "version": 3
   },
   "file_extension": ".py",
   "mimetype": "text/x-python",
   "name": "python",
   "nbconvert_exporter": "python",
   "pygments_lexer": "ipython3",
   "version": "3.6.0"
  }
 },
 "nbformat": 4,
 "nbformat_minor": 2
}
