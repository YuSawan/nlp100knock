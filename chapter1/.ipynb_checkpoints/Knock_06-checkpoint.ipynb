{
 "cells": [
  {
   "cell_type": "code",
   "execution_count": 3,
   "metadata": {},
   "outputs": [
    {
     "name": "stdout",
     "output_type": "stream",
     "text": [
      "和集合 {'ap', 'ad', 'gr', 'is', 'pa', 'ag', 'ra', 'ph', 'se', 'ar', 'di'}\n",
      "積集合 {'pa', 'ra', 'ar', 'ap'}\n",
      "差集合 a-b {'se', 'di', 'is', 'ad'}\n",
      "差集合 b-a {'ag', 'ph', 'gr'}\n",
      "a is included se\n",
      "b is not included se\n"
     ]
    }
   ],
   "source": [
    "import knock_05\n",
    "\n",
    "a = \"paraparaparadise\"\n",
    "b = \"paragraph\"\n",
    "\n",
    "X = set(knock_05.char_ngram(a,2))\n",
    "Y = set(knock_05.char_ngram(b,2))\n",
    "\n",
    "print (\"和集合 {}\".format(X|Y))\n",
    "print (\"積集合 {}\".format(X&Y))\n",
    "print (\"差集合 a-b {}\".format(X-Y))\n",
    "print (\"差集合 b-a {}\".format(Y-X))\n",
    "\n",
    "if 'se' in X:\n",
    "    print ('a is included se')\n",
    "else:\n",
    "    print ('a is not included se')\n",
    "if 'se' in Y:\n",
    "    print ('b is included se')\n",
    "else:\n",
    "    print ('b is not included se')    "
   ]
  },
  {
   "cell_type": "code",
   "execution_count": null,
   "metadata": {},
   "outputs": [],
   "source": []
  }
 ],
 "metadata": {
  "kernelspec": {
   "display_name": "Python 3",
   "language": "python",
   "name": "python3"
  },
  "language_info": {
   "codemirror_mode": {
    "name": "ipython",
    "version": 3
   },
   "file_extension": ".py",
   "mimetype": "text/x-python",
   "name": "python",
   "nbconvert_exporter": "python",
   "pygments_lexer": "ipython3",
   "version": "3.6.0"
  }
 },
 "nbformat": 4,
 "nbformat_minor": 2
}
